{
 "cells": [
  {
   "cell_type": "code",
   "execution_count": null,
   "id": "b8981a3f",
   "metadata": {},
   "outputs": [],
   "source": [
    "import requests\n",
    "from pymongo import MongoClient\n",
    "\n",
    "class karthi:\n",
    "    connection = MongoClient(\"mongodb://localhost:27017/\")\n",
    "    def hit_url(self,url):\n",
    "        response=requests.get(url)\n",
    "        data=response.json()\n",
    "        json_leng=len(data)\n",
    "        heading = []\n",
    "        for data in data:\n",
    "            self.insert_data('cruddb','crud',data)\n",
    "    \n",
    "    def mongo_connection(self):\n",
    "        if self.connection:\n",
    "            return True\n",
    "        else:\n",
    "            return False\n",
    "    def create_new_collection(self, db_name, new_collection):\n",
    "        if self.connection:\n",
    "            db_name = self.connection[db_name]\n",
    "            new_collection = db_name[new_collection]\n",
    "            return(new_collection)\n",
    "        else:\n",
    "            return(\"Connection Failed !\")\n",
    "\n",
    "    def insert_data(self, db_name,collection_name,data):\n",
    "        if self.connection:\n",
    "            self.connection[db_name][collection_name].insert_one(data)\n",
    "            return(\" Data Inserted !\")\n",
    "        else:\n",
    "            return(\"ERROR : Unable to insert data\")\n",
    "    \n",
    "url=\"https://fruityvice.com/api/fruit/all\"\n",
    "k=karthi()\n",
    "db_name = input(\"enter db name\")\n",
    "collection_name = input(\"Enter the collection name\")\n",
    "k.create_new_collection(db_name,collection_name)\n",
    "k.hit_url(url)"
   ]
  }
 ],
 "metadata": {
  "kernelspec": {
   "display_name": "Python 3",
   "language": "python",
   "name": "python3"
  },
  "language_info": {
   "codemirror_mode": {
    "name": "ipython",
    "version": 3
   },
   "file_extension": ".py",
   "mimetype": "text/x-python",
   "name": "python",
   "nbconvert_exporter": "python",
   "pygments_lexer": "ipython3",
   "version": "3.8.8"
  }
 },
 "nbformat": 4,
 "nbformat_minor": 5
}
